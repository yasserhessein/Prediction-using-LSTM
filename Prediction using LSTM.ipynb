{
 "cells": [
  {
   "cell_type": "code",
   "execution_count": 1,
   "metadata": {
    "id": "SGNzE-jsPJxg"
   },
   "outputs": [],
   "source": [
    "import numpy\n",
    "import matplotlib.pyplot as plt\n",
    "from pandas import read_csv\n",
    "import math\n",
    "from keras.models import Sequential\n",
    "from keras.layers import Dense\n",
    "from keras.layers import LSTM\n",
    "from sklearn.preprocessing import MinMaxScaler\n",
    "from sklearn.metrics import mean_squared_error\n"
   ]
  },
  {
   "cell_type": "code",
   "execution_count": 2,
   "metadata": {
    "id": "Gg_K42-5PRBp"
   },
   "outputs": [],
   "source": [
    "# convert an array of values into a dataset matrix\n",
    "def create_dataset(dataset, look_back=1):\n",
    "    dataX, dataY = [], []\n",
    "    for i in range(len(dataset)-look_back-1):\n",
    "        a = dataset[i:(i+look_back), 0]\n",
    "        dataX.append(a)\n",
    "        dataY.append(dataset[i + look_back, 0])\n",
    "    return numpy.array(dataX), numpy.array(dataY)\n"
   ]
  },
  {
   "cell_type": "code",
   "execution_count": 3,
   "metadata": {
    "id": "po7YmQ1jPUT-"
   },
   "outputs": [],
   "source": [
    "# fix random seed for reproducibility\n",
    "numpy.random.seed(7)\n",
    "# load the dataset\n",
    "dataframe = read_csv('/content/dataset1.csv', usecols=[0], engine='python')\n",
    "dataset = dataframe.values\n",
    "dataset = dataset.astype('float32')\n"
   ]
  },
  {
   "cell_type": "code",
   "execution_count": 18,
   "metadata": {
    "colab": {
     "base_uri": "https://localhost:8080/",
     "height": 204
    },
    "id": "ed7cswyjRCNA",
    "outputId": "54b51bae-ed3b-4d86-c97a-8194417bf385"
   },
   "outputs": [
    {
     "data": {
      "text/html": [
       "<div>\n",
       "<style scoped>\n",
       "    .dataframe tbody tr th:only-of-type {\n",
       "        vertical-align: middle;\n",
       "    }\n",
       "\n",
       "    .dataframe tbody tr th {\n",
       "        vertical-align: top;\n",
       "    }\n",
       "\n",
       "    .dataframe thead th {\n",
       "        text-align: right;\n",
       "    }\n",
       "</style>\n",
       "<table border=\"1\" class=\"dataframe\">\n",
       "  <thead>\n",
       "    <tr style=\"text-align: right;\">\n",
       "      <th></th>\n",
       "      <th>Year</th>\n",
       "    </tr>\n",
       "  </thead>\n",
       "  <tbody>\n",
       "    <tr>\n",
       "      <th>1990</th>\n",
       "      <td>118</td>\n",
       "    </tr>\n",
       "    <tr>\n",
       "      <th>1991</th>\n",
       "      <td>125</td>\n",
       "    </tr>\n",
       "    <tr>\n",
       "      <th>1992</th>\n",
       "      <td>133</td>\n",
       "    </tr>\n",
       "    <tr>\n",
       "      <th>1993</th>\n",
       "      <td>145</td>\n",
       "    </tr>\n",
       "    <tr>\n",
       "      <th>1994</th>\n",
       "      <td>150</td>\n",
       "    </tr>\n",
       "  </tbody>\n",
       "</table>\n",
       "</div>"
      ],
      "text/plain": [
       "      Year \n",
       "1990    118\n",
       "1991    125\n",
       "1992    133\n",
       "1993    145\n",
       "1994    150"
      ]
     },
     "execution_count": 18,
     "metadata": {
      "tags": []
     },
     "output_type": "execute_result"
    }
   ],
   "source": [
    "dataframe.head()"
   ]
  },
  {
   "cell_type": "code",
   "execution_count": 19,
   "metadata": {
    "colab": {
     "base_uri": "https://localhost:8080/"
    },
    "id": "1mQwJ8QMRPKG",
    "outputId": "79cae53f-7ee3-49a2-a7c8-4b83612f988a"
   },
   "outputs": [
    {
     "name": "stdout",
     "output_type": "stream",
     "text": [
      "<class 'pandas.core.frame.DataFrame'>\n",
      "Int64Index: 31 entries, 1990 to 2020\n",
      "Data columns (total 1 columns):\n",
      " #   Column  Non-Null Count  Dtype\n",
      "---  ------  --------------  -----\n",
      " 0   Year    31 non-null     int64\n",
      "dtypes: int64(1)\n",
      "memory usage: 496.0 bytes\n"
     ]
    }
   ],
   "source": [
    "dataframe.info()"
   ]
  },
  {
   "cell_type": "code",
   "execution_count": 23,
   "metadata": {
    "colab": {
     "base_uri": "https://localhost:8080/",
     "height": 80
    },
    "id": "Zr1qBBZKRUtQ",
    "outputId": "e316405b-1990-4dfa-d6fc-da66a1ade9da"
   },
   "outputs": [
    {
     "data": {
      "text/html": [
       "<div>\n",
       "<style scoped>\n",
       "    .dataframe tbody tr th:only-of-type {\n",
       "        vertical-align: middle;\n",
       "    }\n",
       "\n",
       "    .dataframe tbody tr th {\n",
       "        vertical-align: top;\n",
       "    }\n",
       "\n",
       "    .dataframe thead th {\n",
       "        text-align: right;\n",
       "    }\n",
       "</style>\n",
       "<table border=\"1\" class=\"dataframe\">\n",
       "  <thead>\n",
       "    <tr style=\"text-align: right;\">\n",
       "      <th></th>\n",
       "      <th>count</th>\n",
       "      <th>mean</th>\n",
       "      <th>std</th>\n",
       "      <th>min</th>\n",
       "      <th>25%</th>\n",
       "      <th>50%</th>\n",
       "      <th>75%</th>\n",
       "      <th>max</th>\n",
       "    </tr>\n",
       "  </thead>\n",
       "  <tbody>\n",
       "    <tr>\n",
       "      <th>Year</th>\n",
       "      <td>31.0</td>\n",
       "      <td>278.516129</td>\n",
       "      <td>135.600607</td>\n",
       "      <td>118.0</td>\n",
       "      <td>155.5</td>\n",
       "      <td>222.0</td>\n",
       "      <td>417.5</td>\n",
       "      <td>511.0</td>\n",
       "    </tr>\n",
       "  </tbody>\n",
       "</table>\n",
       "</div>"
      ],
      "text/plain": [
       "       count        mean         std    min    25%    50%    75%    max\n",
       "Year    31.0  278.516129  135.600607  118.0  155.5  222.0  417.5  511.0"
      ]
     },
     "execution_count": 23,
     "metadata": {
      "tags": []
     },
     "output_type": "execute_result"
    }
   ],
   "source": [
    "dataframe.describe().T"
   ]
  },
  {
   "cell_type": "code",
   "execution_count": 5,
   "metadata": {
    "colab": {
     "base_uri": "https://localhost:8080/"
    },
    "id": "BBiIEewYPbVt",
    "outputId": "1e8c3313-cff6-436b-8517-1eda8f416e55"
   },
   "outputs": [
    {
     "data": {
      "text/plain": [
       "array([[118.],\n",
       "       [125.],\n",
       "       [133.],\n",
       "       [145.],\n",
       "       [150.],\n",
       "       [152.],\n",
       "       [159.],\n",
       "       [167.],\n",
       "       [179.],\n",
       "       [146.],\n",
       "       [148.],\n",
       "       [179.],\n",
       "       [184.],\n",
       "       [197.],\n",
       "       [206.],\n",
       "       [222.],\n",
       "       [241.],\n",
       "       [255.],\n",
       "       [326.],\n",
       "       [337.],\n",
       "       [357.],\n",
       "       [385.],\n",
       "       [413.],\n",
       "       [422.],\n",
       "       [433.],\n",
       "       [438.],\n",
       "       [443.],\n",
       "       [480.],\n",
       "       [485.],\n",
       "       [498.],\n",
       "       [511.]], dtype=float32)"
      ]
     },
     "execution_count": 5,
     "metadata": {
      "tags": []
     },
     "output_type": "execute_result"
    }
   ],
   "source": [
    "dataset"
   ]
  },
  {
   "cell_type": "code",
   "execution_count": 7,
   "metadata": {
    "id": "Pig2qsHePe-k"
   },
   "outputs": [],
   "source": [
    "# normalize the dataset\n",
    "scaler = MinMaxScaler(feature_range=(0, 1))\n",
    "dataset = scaler.fit_transform(dataset)\n",
    "# split into train and test sets\n",
    "train_size = int(len(dataset) * 0.70)#trainDataset70%\n",
    "test_size = len(dataset) - train_size\n",
    "train, test = dataset[0:train_size,:], dataset[train_size:len(dataset),:]\n"
   ]
  },
  {
   "cell_type": "code",
   "execution_count": 8,
   "metadata": {
    "id": "miWXBf9qPplA"
   },
   "outputs": [],
   "source": [
    "# reshape into X=t and Y=t+1\n",
    "look_back = 1\n",
    "trainX, trainY = create_dataset(train, look_back)\n",
    "testX, testY = create_dataset(test, look_back)\n"
   ]
  },
  {
   "cell_type": "code",
   "execution_count": 9,
   "metadata": {
    "id": "w-crUot0PfA8"
   },
   "outputs": [],
   "source": [
    "# reshape input to be [samples, time steps, features]\n",
    "trainX = numpy.reshape(trainX, (trainX.shape[0], 1, trainX.shape[1]))\n",
    "testX = numpy.reshape(testX, (testX.shape[0], 1, testX.shape[1]))\n"
   ]
  },
  {
   "cell_type": "code",
   "execution_count": 10,
   "metadata": {
    "colab": {
     "base_uri": "https://localhost:8080/"
    },
    "id": "IeeWlxxDP7JS",
    "outputId": "78bd4777-9660-4f9c-e446-b08b38ced9c9"
   },
   "outputs": [
    {
     "name": "stdout",
     "output_type": "stream",
     "text": [
      "Epoch 1/100\n",
      "19/19 [==============================] - 2s 2ms/step - loss: 0.0573\n",
      "Epoch 2/100\n",
      "19/19 [==============================] - 0s 2ms/step - loss: 0.0754\n",
      "Epoch 3/100\n",
      "19/19 [==============================] - 0s 2ms/step - loss: 0.0840\n",
      "Epoch 4/100\n",
      "19/19 [==============================] - 0s 1ms/step - loss: 0.0265\n",
      "Epoch 5/100\n",
      "19/19 [==============================] - 0s 2ms/step - loss: 0.0258\n",
      "Epoch 6/100\n",
      "19/19 [==============================] - 0s 2ms/step - loss: 0.0390\n",
      "Epoch 7/100\n",
      "19/19 [==============================] - 0s 2ms/step - loss: 0.0246\n",
      "Epoch 8/100\n",
      "19/19 [==============================] - 0s 2ms/step - loss: 0.0148\n",
      "Epoch 9/100\n",
      "19/19 [==============================] - 0s 2ms/step - loss: 0.0189\n",
      "Epoch 10/100\n",
      "19/19 [==============================] - 0s 2ms/step - loss: 0.0104\n",
      "Epoch 11/100\n",
      "19/19 [==============================] - 0s 2ms/step - loss: 0.0318\n",
      "Epoch 12/100\n",
      "19/19 [==============================] - 0s 1ms/step - loss: 0.0196\n",
      "Epoch 13/100\n",
      "19/19 [==============================] - 0s 2ms/step - loss: 0.0225\n",
      "Epoch 14/100\n",
      "19/19 [==============================] - 0s 1ms/step - loss: 0.0161\n",
      "Epoch 15/100\n",
      "19/19 [==============================] - 0s 1ms/step - loss: 0.0118\n",
      "Epoch 16/100\n",
      "19/19 [==============================] - 0s 2ms/step - loss: 0.0300\n",
      "Epoch 17/100\n",
      "19/19 [==============================] - 0s 2ms/step - loss: 0.0158\n",
      "Epoch 18/100\n",
      "19/19 [==============================] - 0s 1ms/step - loss: 0.0268\n",
      "Epoch 19/100\n",
      "19/19 [==============================] - 0s 1ms/step - loss: 0.0112\n",
      "Epoch 20/100\n",
      "19/19 [==============================] - 0s 2ms/step - loss: 0.0196\n",
      "Epoch 21/100\n",
      "19/19 [==============================] - 0s 1ms/step - loss: 0.0109\n",
      "Epoch 22/100\n",
      "19/19 [==============================] - 0s 1ms/step - loss: 0.0232\n",
      "Epoch 23/100\n",
      "19/19 [==============================] - 0s 2ms/step - loss: 0.0158\n",
      "Epoch 24/100\n",
      "19/19 [==============================] - 0s 1ms/step - loss: 0.0236\n",
      "Epoch 25/100\n",
      "19/19 [==============================] - 0s 1ms/step - loss: 0.0358\n",
      "Epoch 26/100\n",
      "19/19 [==============================] - 0s 2ms/step - loss: 0.0134\n",
      "Epoch 27/100\n",
      "19/19 [==============================] - 0s 2ms/step - loss: 0.0204\n",
      "Epoch 28/100\n",
      "19/19 [==============================] - 0s 2ms/step - loss: 0.0104\n",
      "Epoch 29/100\n",
      "19/19 [==============================] - 0s 1ms/step - loss: 0.0139\n",
      "Epoch 30/100\n",
      "19/19 [==============================] - 0s 2ms/step - loss: 0.0187\n",
      "Epoch 31/100\n",
      "19/19 [==============================] - 0s 1ms/step - loss: 0.0075\n",
      "Epoch 32/100\n",
      "19/19 [==============================] - 0s 2ms/step - loss: 0.0197\n",
      "Epoch 33/100\n",
      "19/19 [==============================] - 0s 2ms/step - loss: 0.0251\n",
      "Epoch 34/100\n",
      "19/19 [==============================] - 0s 1ms/step - loss: 0.0107\n",
      "Epoch 35/100\n",
      "19/19 [==============================] - 0s 2ms/step - loss: 0.0174\n",
      "Epoch 36/100\n",
      "19/19 [==============================] - 0s 1ms/step - loss: 0.0164\n",
      "Epoch 37/100\n",
      "19/19 [==============================] - 0s 1ms/step - loss: 0.0124\n",
      "Epoch 38/100\n",
      "19/19 [==============================] - 0s 1ms/step - loss: 0.0205\n",
      "Epoch 39/100\n",
      "19/19 [==============================] - 0s 1ms/step - loss: 0.0240\n",
      "Epoch 40/100\n",
      "19/19 [==============================] - 0s 1ms/step - loss: 0.0206\n",
      "Epoch 41/100\n",
      "19/19 [==============================] - 0s 1ms/step - loss: 0.0220\n",
      "Epoch 42/100\n",
      "19/19 [==============================] - 0s 1ms/step - loss: 0.0118\n",
      "Epoch 43/100\n",
      "19/19 [==============================] - 0s 1ms/step - loss: 0.0226\n",
      "Epoch 44/100\n",
      "19/19 [==============================] - 0s 2ms/step - loss: 0.0147\n",
      "Epoch 45/100\n",
      "19/19 [==============================] - 0s 2ms/step - loss: 0.0124\n",
      "Epoch 46/100\n",
      "19/19 [==============================] - 0s 1ms/step - loss: 0.0133\n",
      "Epoch 47/100\n",
      "19/19 [==============================] - 0s 2ms/step - loss: 0.0135\n",
      "Epoch 48/100\n",
      "19/19 [==============================] - 0s 1ms/step - loss: 0.0144\n",
      "Epoch 49/100\n",
      "19/19 [==============================] - 0s 2ms/step - loss: 0.0096\n",
      "Epoch 50/100\n",
      "19/19 [==============================] - 0s 2ms/step - loss: 0.0160\n",
      "Epoch 51/100\n",
      "19/19 [==============================] - 0s 1ms/step - loss: 0.0080\n",
      "Epoch 52/100\n",
      "19/19 [==============================] - 0s 2ms/step - loss: 0.0112\n",
      "Epoch 53/100\n",
      "19/19 [==============================] - 0s 2ms/step - loss: 0.0126\n",
      "Epoch 54/100\n",
      "19/19 [==============================] - 0s 2ms/step - loss: 0.0079\n",
      "Epoch 55/100\n",
      "19/19 [==============================] - 0s 2ms/step - loss: 0.0123\n",
      "Epoch 56/100\n",
      "19/19 [==============================] - 0s 1ms/step - loss: 0.0187\n",
      "Epoch 57/100\n",
      "19/19 [==============================] - 0s 2ms/step - loss: 0.0106\n",
      "Epoch 58/100\n",
      "19/19 [==============================] - 0s 2ms/step - loss: 0.0066\n",
      "Epoch 59/100\n",
      "19/19 [==============================] - 0s 2ms/step - loss: 0.0121\n",
      "Epoch 60/100\n",
      "19/19 [==============================] - 0s 2ms/step - loss: 0.0092\n",
      "Epoch 61/100\n",
      "19/19 [==============================] - 0s 1ms/step - loss: 0.0108\n",
      "Epoch 62/100\n",
      "19/19 [==============================] - 0s 2ms/step - loss: 0.0109\n",
      "Epoch 63/100\n",
      "19/19 [==============================] - 0s 1ms/step - loss: 0.0112\n",
      "Epoch 64/100\n",
      "19/19 [==============================] - 0s 2ms/step - loss: 0.0082\n",
      "Epoch 65/100\n",
      "19/19 [==============================] - 0s 1ms/step - loss: 0.0154\n",
      "Epoch 66/100\n",
      "19/19 [==============================] - 0s 1ms/step - loss: 0.0074\n",
      "Epoch 67/100\n",
      "19/19 [==============================] - 0s 2ms/step - loss: 0.0069\n",
      "Epoch 68/100\n",
      "19/19 [==============================] - 0s 1ms/step - loss: 0.0098\n",
      "Epoch 69/100\n",
      "19/19 [==============================] - 0s 1ms/step - loss: 0.0071\n",
      "Epoch 70/100\n",
      "19/19 [==============================] - 0s 1ms/step - loss: 0.0088\n",
      "Epoch 71/100\n",
      "19/19 [==============================] - 0s 2ms/step - loss: 0.0058\n",
      "Epoch 72/100\n",
      "19/19 [==============================] - 0s 3ms/step - loss: 0.0106\n",
      "Epoch 73/100\n",
      "19/19 [==============================] - 0s 2ms/step - loss: 0.0052\n",
      "Epoch 74/100\n",
      "19/19 [==============================] - 0s 2ms/step - loss: 0.0062\n",
      "Epoch 75/100\n",
      "19/19 [==============================] - 0s 1ms/step - loss: 0.0109\n",
      "Epoch 76/100\n",
      "19/19 [==============================] - 0s 2ms/step - loss: 0.0138\n",
      "Epoch 77/100\n",
      "19/19 [==============================] - 0s 1ms/step - loss: 0.0090\n",
      "Epoch 78/100\n",
      "19/19 [==============================] - 0s 1ms/step - loss: 0.0082\n",
      "Epoch 79/100\n",
      "19/19 [==============================] - 0s 2ms/step - loss: 0.0095\n",
      "Epoch 80/100\n",
      "19/19 [==============================] - 0s 2ms/step - loss: 0.0052\n",
      "Epoch 81/100\n",
      "19/19 [==============================] - 0s 2ms/step - loss: 0.0040\n",
      "Epoch 82/100\n",
      "19/19 [==============================] - 0s 1ms/step - loss: 0.0075\n",
      "Epoch 83/100\n",
      "19/19 [==============================] - 0s 1ms/step - loss: 0.0070\n",
      "Epoch 84/100\n",
      "19/19 [==============================] - 0s 2ms/step - loss: 0.0079\n",
      "Epoch 85/100\n",
      "19/19 [==============================] - 0s 1ms/step - loss: 0.0059\n",
      "Epoch 86/100\n",
      "19/19 [==============================] - 0s 2ms/step - loss: 0.0075\n",
      "Epoch 87/100\n",
      "19/19 [==============================] - 0s 2ms/step - loss: 0.0035\n",
      "Epoch 88/100\n",
      "19/19 [==============================] - 0s 1ms/step - loss: 0.0044\n",
      "Epoch 89/100\n",
      "19/19 [==============================] - 0s 2ms/step - loss: 0.0066\n",
      "Epoch 90/100\n",
      "19/19 [==============================] - 0s 2ms/step - loss: 0.0058\n",
      "Epoch 91/100\n",
      "19/19 [==============================] - 0s 2ms/step - loss: 0.0056\n",
      "Epoch 92/100\n",
      "19/19 [==============================] - 0s 1ms/step - loss: 0.0042\n",
      "Epoch 93/100\n",
      "19/19 [==============================] - 0s 1ms/step - loss: 0.0053\n",
      "Epoch 94/100\n",
      "19/19 [==============================] - 0s 2ms/step - loss: 0.0042\n",
      "Epoch 95/100\n",
      "19/19 [==============================] - 0s 1ms/step - loss: 0.0037\n",
      "Epoch 96/100\n",
      "19/19 [==============================] - 0s 2ms/step - loss: 0.0031\n",
      "Epoch 97/100\n",
      "19/19 [==============================] - 0s 2ms/step - loss: 0.0045\n",
      "Epoch 98/100\n",
      "19/19 [==============================] - 0s 2ms/step - loss: 0.0039\n",
      "Epoch 99/100\n",
      "19/19 [==============================] - 0s 2ms/step - loss: 0.0035\n",
      "Epoch 100/100\n",
      "19/19 [==============================] - 0s 1ms/step - loss: 0.0058\n",
      "Model: \"sequential\"\n",
      "_________________________________________________________________\n",
      "Layer (type)                 Output Shape              Param #   \n",
      "=================================================================\n",
      "lstm (LSTM)                  (None, 4)                 96        \n",
      "_________________________________________________________________\n",
      "dense (Dense)                (None, 1)                 5         \n",
      "=================================================================\n",
      "Total params: 101\n",
      "Trainable params: 101\n",
      "Non-trainable params: 0\n",
      "_________________________________________________________________\n"
     ]
    }
   ],
   "source": [
    "# create and fit the LSTM network\n",
    "model = Sequential()\n",
    "model.add(LSTM(4, input_shape=(1, look_back)))###16size\n",
    "model.add(Dense(1))## Predict one value (Kato)\n",
    "model.compile(loss='mean_squared_error', optimizer='adam')\n",
    "model.fit(trainX, trainY, epochs=100, batch_size=1, verbose=1)## epochs=100\n",
    "model.summary()\n"
   ]
  },
  {
   "cell_type": "code",
   "execution_count": 11,
   "metadata": {
    "id": "j21-NdtVP9L3"
   },
   "outputs": [],
   "source": [
    "# make predictions\n",
    "trainPredict = model.predict(trainX)\n",
    "testPredict = model.predict(testX)\n"
   ]
  },
  {
   "cell_type": "code",
   "execution_count": 12,
   "metadata": {
    "id": "4eAruSiAQA6w"
   },
   "outputs": [],
   "source": [
    "# invert predictions\n",
    "trainPredict = scaler.inverse_transform(trainPredict)\n",
    "trainY = scaler.inverse_transform([trainY])\n",
    "testPredict = scaler.inverse_transform(testPredict)\n",
    "testY = scaler.inverse_transform([testY])\n"
   ]
  },
  {
   "cell_type": "code",
   "execution_count": 13,
   "metadata": {
    "colab": {
     "base_uri": "https://localhost:8080/"
    },
    "id": "A7Key8hIQDBQ",
    "outputId": "9167878d-4cdf-4be7-fa55-0b79e0991ccb"
   },
   "outputs": [
    {
     "name": "stdout",
     "output_type": "stream",
     "text": [
      "Train Score: 26.16 RMSE\n",
      "Test Score: 69.09 RMSE\n"
     ]
    }
   ],
   "source": [
    "# calculate root mean squared error\n",
    "trainScore = math.sqrt(mean_squared_error(trainY[0], trainPredict[:,0]))\n",
    "print('Train Score: %.2f RMSE' % (trainScore))\n",
    "testScore = math.sqrt(mean_squared_error(testY[0], testPredict[:,0]))\n",
    "print('Test Score: %.2f RMSE' % (testScore))\n"
   ]
  },
  {
   "cell_type": "code",
   "execution_count": 14,
   "metadata": {
    "id": "lMFFCdUWQE-K"
   },
   "outputs": [],
   "source": [
    "# shift train predictions for plotting\n",
    "trainPredictPlot = numpy.empty_like(dataset)\n",
    "trainPredictPlot[:, :] = numpy.nan\n",
    "trainPredictPlot[look_back:len(trainPredict)+look_back, :] = trainPredict\n"
   ]
  },
  {
   "cell_type": "code",
   "execution_count": 15,
   "metadata": {
    "id": "H8i6nz2LQHSE"
   },
   "outputs": [],
   "source": [
    "# shift test predictions for plotting\n",
    "testPredictPlot = numpy.empty_like(dataset)\n",
    "testPredictPlot[:, :] = numpy.nan\n",
    "testPredictPlot[len(trainPredict)+(look_back*2)+1:len(dataset)-1, :] = testPredict\n"
   ]
  },
  {
   "cell_type": "code",
   "execution_count": 16,
   "metadata": {
    "colab": {
     "base_uri": "https://localhost:8080/",
     "height": 265
    },
    "id": "V0ptKsDlQJTH",
    "outputId": "4294586f-96f4-4b49-b05f-cf186fff403e"
   },
   "outputs": [
    {
     "data": {
      "image/png": "[encoded data removed]",
      "text/plain": [
       "<Figure size 432x288 with 1 Axes>"
      ]
     },
     "metadata": {
      "needs_background": "light",
      "tags": []
     },
     "output_type": "display_data"
    }
   ],
   "source": [
    "# plot baseline and predictions\n",
    "plt.plot(scaler.inverse_transform(dataset))\n",
    "\n",
    "plt.plot(trainPredictPlot)\n",
    "plt.plot(testPredictPlot)\n",
    "\n",
    "plt.show()"
   ]
  },
  {
   "cell_type": "code",
   "execution_count": null,
   "metadata": {
    "id": "eCVUh3jrQKUG"
   },
   "outputs": [],
   "source": []
  }
 ],
 "metadata": {
  "colab": {
   "collapsed_sections": [],
   "name": "Untitled10.ipynb",
   "provenance": []
  },
  "kernelspec": {
   "display_name": "Python 3",
   "language": "python",
   "name": "python3"
  },
  "language_info": {
   "codemirror_mode": {
    "name": "ipython",
    "version": 3
   },
   "file_extension": ".py",
   "mimetype": "text/x-python",
   "name": "python",
   "nbconvert_exporter": "python",
   "pygments_lexer": "ipython3",
   "version": "3.8.5"
  }
 },
 "nbformat": 4,
 "nbformat_minor": 1
}
